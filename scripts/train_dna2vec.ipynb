{
 "cells": [
  {
   "cell_type": "code",
   "execution_count": null,
   "metadata": {},
   "outputs": [],
   "source": [
    "#!/usr/bin/env python3"
   ]
  },
  {
   "cell_type": "code",
   "execution_count": null,
   "metadata": {},
   "outputs": [],
   "source": [
    "import sys\n",
    "sys.path.extend(['.', '..'])"
   ]
  },
  {
   "cell_type": "code",
   "execution_count": null,
   "metadata": {},
   "outputs": [],
   "source": [
    "import glob\n",
    "import logbook\n",
    "from logbook.compat import redirect_logging\n",
    "import configargparse\n",
    "import numpy as np\n",
    "from Bio import SeqIO\n",
    "from attic_util.time_benchmark import Benchmark\n",
    "from attic_util import util\n",
    "from attic_util.tee import Tee\n",
    "from dna2vec.histogram import Histogram\n",
    "from dna2vec.generators import SeqGenerator, KmerSeqIterable, SeqMapper, SeqFragmenter\n",
    "from dna2vec.generators import DisjointKmerFragmenter, SlidingKmerFragmenter"
   ]
  },
  {
   "cell_type": "code",
   "execution_count": null,
   "metadata": {},
   "outputs": [],
   "source": [
    "from gensim.models import word2vec"
   ]
  },
  {
   "cell_type": "code",
   "execution_count": null,
   "metadata": {},
   "outputs": [],
   "source": [
    "class InvalidArgException(Exception):\n",
    "    pass"
   ]
  },
  {
   "cell_type": "code",
   "execution_count": null,
   "metadata": {},
   "outputs": [],
   "source": [
    "class Learner:\n",
    "    def __init__(self, out_fileroot, context_halfsize, gensim_iters, vec_dim):\n",
    "        self.logger = logbook.Logger(self.__class__.__name__)\n",
    "        assert(word2vec.FAST_VERSION >= 0)\n",
    "        self.logger.info('word2vec.FAST_VERSION (should be >= 0): {}'.format(word2vec.FAST_VERSION))\n",
    "        self.model = None\n",
    "        self.out_fileroot = out_fileroot\n",
    "        self.context_halfsize = context_halfsize\n",
    "        self.gensim_iters = gensim_iters\n",
    "        self.use_skipgram = 1\n",
    "        self.vec_dim = vec_dim\n",
    "        self.logger.info('Context window half size: {}'.format(self.context_halfsize))\n",
    "        self.logger.info('Use skipgram: {}'.format(self.use_skipgram))\n",
    "        self.logger.info('gensim_iters: {}'.format(self.gensim_iters))\n",
    "        self.logger.info('vec_dim: {}'.format(self.vec_dim))\n",
    "    def train(self, kmer_seq_generator):\n",
    "        self.model = word2vec.Word2Vec(\n",
    "            sentences=kmer_seq_generator,\n",
    "            size=self.vec_dim,\n",
    "            window=self.context_halfsize,\n",
    "            min_count=5,\n",
    "            workers=4,\n",
    "            sg=self.use_skipgram,\n",
    "            iter=self.gensim_iters)\n",
    "\n",
    "        # self.logger.info(model.vocab)\n",
    "    def write_vec(self):\n",
    "        out_filename = '{}.w2v'.format(self.out_fileroot)\n",
    "        self.model.wv.save_word2vec_format(out_filename, binary=False)"
   ]
  },
  {
   "cell_type": "code",
   "execution_count": null,
   "metadata": {},
   "outputs": [],
   "source": [
    "def run_main(args, inputs, out_fileroot):\n",
    "    logbook.info(' '.join(sys.argv))\n",
    "    if not args.debug:\n",
    "        import logging\n",
    "        logging.getLogger('gensim.models.word2vec').setLevel(logging.INFO)\n",
    "    np.random.seed(args.rseed)\n",
    "    benchmark = Benchmark()\n",
    "    if args.kmer_fragmenter == 'disjoint':\n",
    "        kmer_fragmenter = DisjointKmerFragmenter(args.k_low, args.k_high)\n",
    "    elif args.kmer_fragmenter == 'sliding':\n",
    "        kmer_fragmenter = SlidingKmerFragmenter(args.k_low, args.k_high)\n",
    "    else:\n",
    "        raise InvalidArgException('Invalid kmer fragmenter: {}'.format(args.kmer_fragmenter))\n",
    "    logbook.info('kmer fragmenter: {}'.format(args.kmer_fragmenter))\n",
    "    histogram = Histogram()\n",
    "    kmer_seq_iterable = KmerSeqIterable(\n",
    "        args.rseed_trainset,\n",
    "        SeqGenerator(inputs, args.epochs),\n",
    "        SeqMapper(),\n",
    "        SeqFragmenter(),\n",
    "        kmer_fragmenter,\n",
    "        histogram,\n",
    "    )\n",
    "    learner = Learner(out_fileroot, args.context, args.gensim_iters, args.vec_dim)\n",
    "    learner.train(kmer_seq_iterable)\n",
    "    learner.write_vec()\n",
    "    histogram.print_stat(sys.stdout)\n",
    "    benchmark.print_time()"
   ]
  },
  {
   "cell_type": "code",
   "execution_count": null,
   "metadata": {},
   "outputs": [],
   "source": [
    "def main():\n",
    "    argp = configargparse.get_argument_parser()\n",
    "    argp.add('-c', is_config_file=True, help='config file path')\n",
    "    argp.add_argument('--kmer-fragmenter', help='disjoint or sliding', choices=['disjoint', 'sliding'], default='sliding')\n",
    "    argp.add_argument('--vec-dim', help='vector dimension', type=int, default=12)\n",
    "    argp.add_argument('--rseed', help='general np.random seed', type=int, default=7)\n",
    "    argp.add_argument('--rseed-trainset', help='random seed for generating training data', type=int, default=123)\n",
    "    argp.add_argument('--inputs', help='FASTA files', nargs='+', required=True)\n",
    "    argp.add_argument('--k-low', help='k-mer start range (inclusive)', type=int, default=5)\n",
    "    argp.add_argument('--k-high', help='k-mer end range (inclusive)', type=int, default=5)\n",
    "    argp.add_argument('--context', help='half size of context window (the total size is 2*c+1)', type=int, default=4)\n",
    "    argp.add_argument('--epochs', help='number of epochs', type=int, default=1)\n",
    "    argp.add_argument('--gensim-iters', help=\"gensim's internal iterations\", type=int, default=1)\n",
    "    argp.add_argument('--out-dir', help=\"output directory\", default='../dataset/dna2vec/results')\n",
    "    argp.add_argument('--debug', help='', action='store_true')\n",
    "    args = argp.parse_args()\n",
    "    if args.debug:\n",
    "        out_dir = '/tmp'\n",
    "        log_level = 'DEBUG'\n",
    "    else:\n",
    "        out_dir = args.out_dir\n",
    "        log_level = 'INFO'\n",
    "    inputs = []\n",
    "    for s in args.inputs:\n",
    "        inputs.extend(list(glob.glob(s)))\n",
    "    mbytes = util.estimate_bytes(inputs) // (10 ** 6)\n",
    "    out_fileroot = util.get_output_fileroot(\n",
    "        out_dir,\n",
    "        'dna2vec',\n",
    "        'k{}to{}-{}d-{}c-{}Mbp-{}'.format(\n",
    "            args.k_low,\n",
    "            args.k_high,\n",
    "            args.vec_dim,\n",
    "            args.context,\n",
    "            mbytes * args.epochs,  # total Mb including epochs\n",
    "            args.kmer_fragmenter))\n",
    "    out_txt_filename = '{}.txt'.format(out_fileroot)\n",
    "    with open(out_txt_filename, 'w') as summary_fptr:\n",
    "        with Tee(summary_fptr):\n",
    "            logbook.StreamHandler(sys.stdout, level=log_level).push_application()\n",
    "            redirect_logging()\n",
    "            run_main(args, inputs, out_fileroot)"
   ]
  },
  {
   "cell_type": "code",
   "execution_count": null,
   "metadata": {},
   "outputs": [],
   "source": [
    "if __name__ == '__main__':\n",
    "    main()"
   ]
  }
 ],
 "metadata": {
  "kernelspec": {
   "display_name": "Python 3",
   "language": "python",
   "name": "python3"
  },
  "language_info": {
   "codemirror_mode": {
    "name": "ipython",
    "version": 3
   },
   "file_extension": ".py",
   "mimetype": "text/x-python",
   "name": "python",
   "nbconvert_exporter": "python",
   "pygments_lexer": "ipython3",
   "version": "3.7.5"
  }
 },
 "nbformat": 4,
 "nbformat_minor": 2
}
